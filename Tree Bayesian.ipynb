{
 "cells": [
  {
   "cell_type": "code",
   "execution_count": null,
   "metadata": {},
   "outputs": [],
   "source": [
    "import pandas as pd\n",
    "import numpy as np\n",
    "import math\n",
    "import math\n",
    "from Util import *\n",
    "from CLT_class import CLT\n",
    "from MIXTURE_CLT import MIXTURE_CLT\n",
    "from __future__ import print_function"
   ]
  },
  {
   "cell_type": "code",
   "execution_count": null,
   "metadata": {},
   "outputs": [],
   "source": [
    "datasetList = [\"accidents\",\"baudio\",\"bnetflix\",\"jester\",\"kdd\",\"msnbc\",\"nltcs\",\"plants\",\"pumsb_star\",\"tretail\"]\n",
    "\n",
    "data = {}\n",
    "for i in datasetList:\n",
    "    data[i+\".ts.data\"] = Util.load_dataset(\"datasets\\\\dataset\\\\\"+i+\".ts.data\")\n",
    "    data[i+\".test.data\"] = Util.load_dataset(\"datasets\\\\dataset\\\\\"+i+\".test.data\")\n",
    "    data[i+\".valid.data\"] = Util.load_dataset(\"datasets\\\\dataset\\\\\"+i+\".valid.data\")\n",
    "\n",
    "    "
   ]
  },
  {
   "cell_type": "markdown",
   "metadata": {},
   "source": [
    "## Tree Bayesian networks"
   ]
  },
  {
   "cell_type": "code",
   "execution_count": null,
   "metadata": {},
   "outputs": [],
   "source": [
    "#CLT\n",
    "\n",
    "clt=CLT()\n",
    "i = 0\n",
    "likelihood = {}\n",
    "probabilities = {}\n",
    "items = list(data.keys())\n",
    "while i < 30:\n",
    "    clt.learn(data[items[i]])\n",
    "    i += 1\n",
    "    likelihood[items[i]] = clt.computeLL(data[items[i]])/data[items[i]].shape[0]\n",
    "    i += 2\n"
   ]
  },
  {
   "cell_type": "code",
   "execution_count": null,
   "metadata": {},
   "outputs": [],
   "source": [
    "print(\"Likelihood Values - \",likelihood)"
   ]
  },
  {
   "cell_type": "markdown",
   "metadata": {},
   "source": [
    "## Mixtures of Tree Bayesian networks using EM:"
   ]
  },
  {
   "cell_type": "markdown",
   "metadata": {},
   "source": [
    "#### Learning on Train data to find the best values of K to be used on test data"
   ]
  },
  {
   "cell_type": "code",
   "execution_count": null,
   "metadata": {},
   "outputs": [],
   "source": [
    "kval = {}\n",
    "items = list(data.keys())\n",
    "ncomponents=10 #number of components\n",
    "max_iter=50 #max number of iterations for EM\n",
    "epsilon=1e-2 #converge if the difference in the log-likelihods between two iterations is smaller 1e-1\n",
    "\n",
    "i = 0\n",
    "kvals = [2,5,10,20]\n",
    "\n",
    "while i < 30:\n",
    "    kMixCLT = [MIXTURE_CLT() for p in kvals]\n",
    "    p = 0\n",
    "    temp = []\n",
    "    print(\"Running for dataset - \", items[i])\n",
    "    for k in kvals:\n",
    "        t = i \n",
    "        # print([items[t]])\n",
    "        kMixCLT[p].learn(data[items[t]],k,max_iter,epsilon)\n",
    "        t += 2\n",
    "        x = kMixCLT[p].computeLL(data[items[t]] , k)/data[items[t]].shape[0]\n",
    "        print(\"LL for \", k , \" - \", x  )\n",
    "        temp.append(x)\n",
    "        p += 1\n",
    "        \n",
    "    kval[items[i]] = [ kvals[temp.index(max(temp))] , max(temp)] \n",
    "\n",
    "    print(temp)\n",
    "    print(kval)\n",
    "    i += 3"
   ]
  },
  {
   "cell_type": "markdown",
   "metadata": {},
   "source": [
    "#### Running on Test data"
   ]
  },
  {
   "cell_type": "code",
   "execution_count": null,
   "metadata": {},
   "outputs": [],
   "source": [
    "items = list(data.keys())\n",
    "ncomponents=10 #number of components\n",
    "max_iter=50 #max number of iterations for EM\n",
    "epsilon=1e-2 #converge if the difference in the log-likelihods between two iterations is smaller 1e-1\n",
    "\n",
    "\n",
    "i = 0\n",
    "\n",
    "while i < 30:\n",
    "    kMixCLT = [MIXTURE_CLT() for p in kvals]\n",
    "    p = 0\n",
    "    temp = []\n",
    "    print(\"Running for dataset - \", items[i])\n",
    "    for l, k in kval[data[items[i]]]:\n",
    "        t = i \n",
    "        # print([items[t]])\n",
    "        kMixCLT[p].learn(data[items[t]],k,max_iter,epsilon)\n",
    "        t += 1\n",
    "        x = kMixCLT[p].computeLL(data[items[t]] , k)/data[items[t]].shape[0]\n",
    "        print(\"LL for \", k , \" - \", x  )\n",
    "        temp.append(x)\n",
    "        p += 1\n",
    "        \n",
    "    kval[items[i]] = [ kvals[temp.index(max(temp))] , max(temp)] \n",
    "\n",
    "    print(temp)\n",
    "    print(kval)\n",
    "    i += 3"
   ]
  },
  {
   "cell_type": "markdown",
   "metadata": {},
   "source": [
    "## Mixtures of Tree Bayesian networks using Random Forests"
   ]
  },
  {
   "cell_type": "code",
   "execution_count": null,
   "metadata": {},
   "outputs": [],
   "source": [
    "#Random Forest\n",
    "kval = {}\n",
    "items = list(data.keys())\n",
    "# mix_clt=MIXTURE_CLT.MIXTURE_CLT()\n",
    "ncomponents=10 #number of components\n",
    "max_iter=50 #max number of iterations for EM\n",
    "epsilon=1e-2 #converge if the difference in the log-likelihods between two iterations is smaller 1e-1\n",
    "\n",
    "i = 0\n",
    "\n",
    "kvals = [2,5,10,20]\n",
    "rVals = [10, 20, 50, 100]\n",
    "while i < 30:\n",
    "    temp = []\n",
    "    print(\"Running for dataset - \", items[i])\n",
    "    for k in kvals:\n",
    "        for r in rVals:\n",
    "            print(\"K = \", str(k), \" r = \", r)\n",
    "            rf = MIXTURE_CLT()\n",
    "            t = i \n",
    "            # print([items[t]])\n",
    "            rf.learn(data[items[t]],k,max_iter,epsilon,r)\n",
    "            t += 2\n",
    "            x = rf.computeLL(data[items[t]] , k)\n",
    "            temp.append([k,r,x])\n",
    "            p += 1\n",
    "        kval[items[i]+\" \"+str(k)] = temp \n",
    "    i += 3"
   ]
  },
  {
   "cell_type": "code",
   "execution_count": null,
   "metadata": {},
   "outputs": [],
   "source": [
    "items = list(data.keys())\n",
    "max_iter=50 #max number of iterations for EM\n",
    "epsilon=1e-2 #converge if the difference in the log-likelihods between two iterations is smaller 1e-1\n",
    "\n",
    "i = 0\n",
    "\n",
    "kvals = [2]  ## Manually setting the best k value from above execution\n",
    "rVals = [10] ## Manually setting the best r value from above execution\n",
    "\n",
    "print(\"K = \", str(kvals[0]), \" r = \", rVals[0])\n",
    "rf = MIXTURE_CLT()\n",
    "# print([items[t]])\n",
    "rf.learn(data[\"accidents.ts.data\"],kvals[0],max_iter,epsilon,rVals[0])\n"
   ]
  },
  {
   "cell_type": "code",
   "execution_count": null,
   "metadata": {},
   "outputs": [],
   "source": []
  }
 ],
 "metadata": {
  "interpreter": {
   "hash": "531b0134987c0aafae321ed1cd8f9e42c457322123fad9ee871b5aa55e2a1c2c"
  },
  "kernelspec": {
   "display_name": "Python 3.9.6 64-bit ('hw1': conda)",
   "language": "python",
   "name": "python3"
  },
  "language_info": {
   "codemirror_mode": {
    "name": "ipython",
    "version": 3
   },
   "file_extension": ".py",
   "mimetype": "text/x-python",
   "name": "python",
   "nbconvert_exporter": "python",
   "pygments_lexer": "ipython3",
   "version": "3.9.6"
  },
  "orig_nbformat": 4
 },
 "nbformat": 4,
 "nbformat_minor": 2
}
